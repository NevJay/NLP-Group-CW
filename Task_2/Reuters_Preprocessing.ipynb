{
  "nbformat": 4,
  "nbformat_minor": 0,
  "metadata": {
    "colab": {
      "provenance": []
    },
    "kernelspec": {
      "name": "python3",
      "display_name": "Python 3"
    },
    "language_info": {
      "name": "python"
    }
  },
  "cells": [
    {
      "cell_type": "code",
      "execution_count": 1,
      "metadata": {
        "colab": {
          "base_uri": "https://localhost:8080/"
        },
        "id": "MYsNYOgkM0PA",
        "outputId": "3212f597-ef86-4e9a-e1d3-3c562d42672d"
      },
      "outputs": [
        {
          "output_type": "stream",
          "name": "stdout",
          "text": [
            "Mounted at /content/drive\n"
          ]
        }
      ],
      "source": [
        "from google.colab import drive\n",
        "drive.mount('/content/drive')"
      ]
    },
    {
      "cell_type": "code",
      "source": [
        "import pandas as pd\n",
        "from nltk.corpus import stopwords\n",
        "from nltk.stem import PorterStemmer, WordNetLemmatizer\n",
        "from bs4 import BeautifulSoup\n",
        "import re\n",
        "import nltk\n",
        "import string\n",
        "from tqdm import tqdm\n",
        "import os"
      ],
      "metadata": {
        "id": "ySVQV88AbO7T"
      },
      "execution_count": 24,
      "outputs": []
    },
    {
      "cell_type": "code",
      "source": [
        "nltk.download('stopwords')\n",
        "nltk.download('wordnet')"
      ],
      "metadata": {
        "colab": {
          "base_uri": "https://localhost:8080/"
        },
        "id": "7065nFMLszK-",
        "outputId": "45868c95-fd0f-40e2-f6ab-38a316492c1a"
      },
      "execution_count": 3,
      "outputs": [
        {
          "output_type": "stream",
          "name": "stderr",
          "text": [
            "[nltk_data] Downloading package stopwords to /root/nltk_data...\n",
            "[nltk_data]   Unzipping corpora/stopwords.zip.\n",
            "[nltk_data] Downloading package wordnet to /root/nltk_data...\n"
          ]
        },
        {
          "output_type": "execute_result",
          "data": {
            "text/plain": [
              "True"
            ]
          },
          "metadata": {},
          "execution_count": 3
        }
      ]
    },
    {
      "cell_type": "code",
      "source": [
        "# Load data from CSV\n",
        "df = pd.read_csv(\"/content/drive/MyDrive/NLPCoursework/Task2/dataset.csv\")"
      ],
      "metadata": {
        "id": "cArRfuzNbPAI"
      },
      "execution_count": 4,
      "outputs": []
    },
    {
      "cell_type": "code",
      "source": [
        "def preprocess_text(text):\n",
        "\n",
        "    # Remove HTML tags\n",
        "    soup = BeautifulSoup(text, 'html.parser')\n",
        "    text = soup.get_text()\n",
        "\n",
        "    # Remove punctuation\n",
        "    translator = str.maketrans(\"\", \"\", string.punctuation)\n",
        "    text = text.translate(translator)\n",
        "\n",
        "    # Convert to lowercase\n",
        "    text = text.lower()\n",
        "\n",
        "    # Perform Whitespace tokenization\n",
        "    tokens = text.split()\n",
        "\n",
        "    # Remove stopwords\n",
        "    stop_words = set(stopwords.words('english'))\n",
        "    tokens = [token for token in tokens if token not in stop_words]\n",
        "\n",
        "    # Perform stemming\n",
        "    ps = PorterStemmer()\n",
        "    tokens = [ps.stem(token) for token in tokens]\n",
        "\n",
        "    # Perform lemmatization\n",
        "    lemmatizer = WordNetLemmatizer()\n",
        "    tokens = [lemmatizer.lemmatize(token) for token in tokens]\n",
        "\n",
        "    # Join tokens back into a string\n",
        "    processed_text = \" \".join(tokens)\n",
        "\n",
        "    return processed_text"
      ],
      "metadata": {
        "id": "ozWiCyROu2ub"
      },
      "execution_count": 5,
      "outputs": []
    },
    {
      "cell_type": "code",
      "source": [
        "# Print original data\n",
        "print(\"Original data:\")\n",
        "print(df)"
      ],
      "metadata": {
        "colab": {
          "base_uri": "https://localhost:8080/"
        },
        "id": "h5aA0LNfbPFX",
        "outputId": "52bb35e1-78e7-4dd4-a571-ef54a2cd554c"
      },
      "execution_count": 6,
      "outputs": [
        {
          "output_type": "stream",
          "name": "stdout",
          "text": [
            "Original data:\n",
            "                                                  Topic  \\\n",
            "0                                    BAHIA COCOA REVIEW   \n",
            "1       DEAN FOODS &lt;DF> SEES STRONG 4TH QTR EARNINGS   \n",
            "2               MAGMA LOWERS COPPER 0.75 CENT TO 66 CTS   \n",
            "3         JANUARY HOUSING SALES DROP, REALTY GROUP SAYS   \n",
            "4     ASSETS OF MONEY MARKET MUTUAL FUNDS ROSE 720.4...   \n",
            "...                                                 ...   \n",
            "5705  BANK OF JAPAN INTERVENES SOON AFTER TOKYO OPENING   \n",
            "5706                  JAPAN RUBBER STOCKS FALL IN MARCH   \n",
            "5707            SOUTH KOREAN WON FIXED AT 25-MONTH HIGH   \n",
            "5708                  NIPPON MINING LOWERS COPPER PRICE   \n",
            "5709   AUSTRALIAN UNIONS LAUNCH NEW SOUTH WALES STRIKES   \n",
            "\n",
            "                                                   Text  Category  WordCount  \\\n",
            "0      Showers continued throughout the week in the ...     trade        486   \n",
            "1      Dean Foods Co expects earnings for the fourth...       acq        233   \n",
            "2      Magma Copper Co, a subsidiary of Newmont Mini...  interest         27   \n",
            "3      Sales of previously owned homes dropped 14.5 ...      earn         92   \n",
            "4      ASSETS OF MONEY MARKET MUTUAL FUNDS ROSE 720....      earn         13   \n",
            "...                                                 ...       ...        ...   \n",
            "5705   The Bank of Japan bought a small amount of do...      earn         81   \n",
            "5706   Japan's rubber stocks fell to 44,980 tonnes i...       acq         55   \n",
            "5707   THE BANK OF KOREA SAID IT FIXED THE MIDRATE O...  interest         54   \n",
            "5708   Nippon Mining Co Ltd said it lowered its sell...      earn         22   \n",
            "5709   Australian trade unions said they have launch...  money-fx        175   \n",
            "\n",
            "      TokenCount  \n",
            "0            526  \n",
            "1            269  \n",
            "2             31  \n",
            "3            104  \n",
            "4             13  \n",
            "...          ...  \n",
            "5705          90  \n",
            "5706          62  \n",
            "5707          61  \n",
            "5708          24  \n",
            "5709         190  \n",
            "\n",
            "[5710 rows x 5 columns]\n"
          ]
        }
      ]
    },
    {
      "cell_type": "code",
      "source": [
        "df[\"Combined_Text\"] = df[\"Topic\"] + \" \" + df[\"Text\"]"
      ],
      "metadata": {
        "id": "ZNn_DeQO92Te"
      },
      "execution_count": 7,
      "outputs": []
    },
    {
      "cell_type": "code",
      "source": [
        "# Clean and preprocess text\n",
        "df[\"Text\"] = df[\"Combined_Text\"].apply(preprocess_text)"
      ],
      "metadata": {
        "id": "JPQBxdBDbPHD",
        "colab": {
          "base_uri": "https://localhost:8080/"
        },
        "outputId": "e0bdfd31-eea3-4076-8cc4-385db53e2ecc"
      },
      "execution_count": 8,
      "outputs": [
        {
          "output_type": "stream",
          "name": "stderr",
          "text": [
            "<ipython-input-5-f8ba2238da64>:4: MarkupResemblesLocatorWarning: The input looks more like a filename than markup. You may want to open this file and pass the filehandle into Beautiful Soup.\n",
            "  soup = BeautifulSoup(text, 'html.parser')\n"
          ]
        }
      ]
    },
    {
      "cell_type": "code",
      "source": [
        "df = df.drop(['Combined_Text', 'Topic'], axis=1)"
      ],
      "metadata": {
        "id": "1bzP926A-MYp"
      },
      "execution_count": 10,
      "outputs": []
    },
    {
      "cell_type": "code",
      "source": [
        "print(\"After HTML removal:\")\n",
        "print(df)"
      ],
      "metadata": {
        "colab": {
          "base_uri": "https://localhost:8080/"
        },
        "id": "8_wQLLDjbPKS",
        "outputId": "98c1cb76-a5a2-4345-f9cd-93154687d39c"
      },
      "execution_count": 11,
      "outputs": [
        {
          "output_type": "stream",
          "name": "stdout",
          "text": [
            "After HTML removal:\n",
            "                                                   Text  Category  WordCount  \\\n",
            "0     bahia cocoa review shower continu throughout w...     trade        486   \n",
            "1     dean food df see strong 4th qtr earn dean food...       acq        233   \n",
            "2     magma lower copper 075 cent 66 ct magma copper...  interest         27   \n",
            "3     januari hous sale drop realti group say sale p...      earn         92   \n",
            "4     asset money market mutual fund rose 7204 mln d...      earn         13   \n",
            "...                                                 ...       ...        ...   \n",
            "5705  bank japan interven soon tokyo open bank japan...      earn         81   \n",
            "5706  japan rubber stock fall march japan rubber sto...       acq         55   \n",
            "5707  south korean fix 25month high bank korea said ...  interest         54   \n",
            "5708  nippon mine lower copper price nippon mine co ...      earn         22   \n",
            "5709  australian union launch new south wale strike ...  money-fx        175   \n",
            "\n",
            "      TokenCount  \n",
            "0            526  \n",
            "1            269  \n",
            "2             31  \n",
            "3            104  \n",
            "4             13  \n",
            "...          ...  \n",
            "5705          90  \n",
            "5706          62  \n",
            "5707          61  \n",
            "5708          24  \n",
            "5709         190  \n",
            "\n",
            "[5710 rows x 4 columns]\n"
          ]
        }
      ]
    },
    {
      "cell_type": "code",
      "source": [
        "print(\"After lowercase:\")\n",
        "print(df)"
      ],
      "metadata": {
        "colab": {
          "base_uri": "https://localhost:8080/"
        },
        "id": "k_JUXp7WbPLX",
        "outputId": "c596baad-4ec7-4431-8256-bd7a9f47f039"
      },
      "execution_count": 12,
      "outputs": [
        {
          "output_type": "stream",
          "name": "stdout",
          "text": [
            "After lowercase:\n",
            "                                                   Text  Category  WordCount  \\\n",
            "0     bahia cocoa review shower continu throughout w...     trade        486   \n",
            "1     dean food df see strong 4th qtr earn dean food...       acq        233   \n",
            "2     magma lower copper 075 cent 66 ct magma copper...  interest         27   \n",
            "3     januari hous sale drop realti group say sale p...      earn         92   \n",
            "4     asset money market mutual fund rose 7204 mln d...      earn         13   \n",
            "...                                                 ...       ...        ...   \n",
            "5705  bank japan interven soon tokyo open bank japan...      earn         81   \n",
            "5706  japan rubber stock fall march japan rubber sto...       acq         55   \n",
            "5707  south korean fix 25month high bank korea said ...  interest         54   \n",
            "5708  nippon mine lower copper price nippon mine co ...      earn         22   \n",
            "5709  australian union launch new south wale strike ...  money-fx        175   \n",
            "\n",
            "      TokenCount  \n",
            "0            526  \n",
            "1            269  \n",
            "2             31  \n",
            "3            104  \n",
            "4             13  \n",
            "...          ...  \n",
            "5705          90  \n",
            "5706          62  \n",
            "5707          61  \n",
            "5708          24  \n",
            "5709         190  \n",
            "\n",
            "[5710 rows x 4 columns]\n"
          ]
        }
      ]
    },
    {
      "cell_type": "code",
      "source": [
        "print(\"After punctuation removal:\")\n",
        "print(df)"
      ],
      "metadata": {
        "colab": {
          "base_uri": "https://localhost:8080/"
        },
        "id": "z0Zj_S2dbPPN",
        "outputId": "100289c7-26ed-448c-a121-b398fd4a7ce7"
      },
      "execution_count": 13,
      "outputs": [
        {
          "output_type": "stream",
          "name": "stdout",
          "text": [
            "After punctuation removal:\n",
            "                                                   Text  Category  WordCount  \\\n",
            "0     bahia cocoa review shower continu throughout w...     trade        486   \n",
            "1     dean food df see strong 4th qtr earn dean food...       acq        233   \n",
            "2     magma lower copper 075 cent 66 ct magma copper...  interest         27   \n",
            "3     januari hous sale drop realti group say sale p...      earn         92   \n",
            "4     asset money market mutual fund rose 7204 mln d...      earn         13   \n",
            "...                                                 ...       ...        ...   \n",
            "5705  bank japan interven soon tokyo open bank japan...      earn         81   \n",
            "5706  japan rubber stock fall march japan rubber sto...       acq         55   \n",
            "5707  south korean fix 25month high bank korea said ...  interest         54   \n",
            "5708  nippon mine lower copper price nippon mine co ...      earn         22   \n",
            "5709  australian union launch new south wale strike ...  money-fx        175   \n",
            "\n",
            "      TokenCount  \n",
            "0            526  \n",
            "1            269  \n",
            "2             31  \n",
            "3            104  \n",
            "4             13  \n",
            "...          ...  \n",
            "5705          90  \n",
            "5706          62  \n",
            "5707          61  \n",
            "5708          24  \n",
            "5709         190  \n",
            "\n",
            "[5710 rows x 4 columns]\n"
          ]
        }
      ]
    },
    {
      "cell_type": "code",
      "source": [
        "print(\"After stopword removal:\")\n",
        "print(df)"
      ],
      "metadata": {
        "colab": {
          "base_uri": "https://localhost:8080/"
        },
        "id": "usANoIe8bPQc",
        "outputId": "85b707f4-e0c0-4e26-a7a6-d74b0b2c4333"
      },
      "execution_count": 14,
      "outputs": [
        {
          "output_type": "stream",
          "name": "stdout",
          "text": [
            "After stopword removal:\n",
            "                                                   Text  Category  WordCount  \\\n",
            "0     bahia cocoa review shower continu throughout w...     trade        486   \n",
            "1     dean food df see strong 4th qtr earn dean food...       acq        233   \n",
            "2     magma lower copper 075 cent 66 ct magma copper...  interest         27   \n",
            "3     januari hous sale drop realti group say sale p...      earn         92   \n",
            "4     asset money market mutual fund rose 7204 mln d...      earn         13   \n",
            "...                                                 ...       ...        ...   \n",
            "5705  bank japan interven soon tokyo open bank japan...      earn         81   \n",
            "5706  japan rubber stock fall march japan rubber sto...       acq         55   \n",
            "5707  south korean fix 25month high bank korea said ...  interest         54   \n",
            "5708  nippon mine lower copper price nippon mine co ...      earn         22   \n",
            "5709  australian union launch new south wale strike ...  money-fx        175   \n",
            "\n",
            "      TokenCount  \n",
            "0            526  \n",
            "1            269  \n",
            "2             31  \n",
            "3            104  \n",
            "4             13  \n",
            "...          ...  \n",
            "5705          90  \n",
            "5706          62  \n",
            "5707          61  \n",
            "5708          24  \n",
            "5709         190  \n",
            "\n",
            "[5710 rows x 4 columns]\n"
          ]
        }
      ]
    },
    {
      "cell_type": "code",
      "source": [
        "print(\"After stemming:\")\n",
        "print(df)"
      ],
      "metadata": {
        "colab": {
          "base_uri": "https://localhost:8080/"
        },
        "id": "kwZV1H1LbPT3",
        "outputId": "56fdf31e-4db8-426a-8c81-6d8341a61991"
      },
      "execution_count": 15,
      "outputs": [
        {
          "output_type": "stream",
          "name": "stdout",
          "text": [
            "After stemming:\n",
            "                                                   Text  Category  WordCount  \\\n",
            "0     bahia cocoa review shower continu throughout w...     trade        486   \n",
            "1     dean food df see strong 4th qtr earn dean food...       acq        233   \n",
            "2     magma lower copper 075 cent 66 ct magma copper...  interest         27   \n",
            "3     januari hous sale drop realti group say sale p...      earn         92   \n",
            "4     asset money market mutual fund rose 7204 mln d...      earn         13   \n",
            "...                                                 ...       ...        ...   \n",
            "5705  bank japan interven soon tokyo open bank japan...      earn         81   \n",
            "5706  japan rubber stock fall march japan rubber sto...       acq         55   \n",
            "5707  south korean fix 25month high bank korea said ...  interest         54   \n",
            "5708  nippon mine lower copper price nippon mine co ...      earn         22   \n",
            "5709  australian union launch new south wale strike ...  money-fx        175   \n",
            "\n",
            "      TokenCount  \n",
            "0            526  \n",
            "1            269  \n",
            "2             31  \n",
            "3            104  \n",
            "4             13  \n",
            "...          ...  \n",
            "5705          90  \n",
            "5706          62  \n",
            "5707          61  \n",
            "5708          24  \n",
            "5709         190  \n",
            "\n",
            "[5710 rows x 4 columns]\n"
          ]
        }
      ]
    },
    {
      "cell_type": "code",
      "source": [
        "print(\"After lemmatization:\")\n",
        "print(df)"
      ],
      "metadata": {
        "colab": {
          "base_uri": "https://localhost:8080/"
        },
        "id": "6wl7m-3obPU_",
        "outputId": "37ae4342-87a4-4a42-de8c-f395298d82eb"
      },
      "execution_count": 16,
      "outputs": [
        {
          "output_type": "stream",
          "name": "stdout",
          "text": [
            "After lemmatization:\n",
            "                                                   Text  Category  WordCount  \\\n",
            "0     bahia cocoa review shower continu throughout w...     trade        486   \n",
            "1     dean food df see strong 4th qtr earn dean food...       acq        233   \n",
            "2     magma lower copper 075 cent 66 ct magma copper...  interest         27   \n",
            "3     januari hous sale drop realti group say sale p...      earn         92   \n",
            "4     asset money market mutual fund rose 7204 mln d...      earn         13   \n",
            "...                                                 ...       ...        ...   \n",
            "5705  bank japan interven soon tokyo open bank japan...      earn         81   \n",
            "5706  japan rubber stock fall march japan rubber sto...       acq         55   \n",
            "5707  south korean fix 25month high bank korea said ...  interest         54   \n",
            "5708  nippon mine lower copper price nippon mine co ...      earn         22   \n",
            "5709  australian union launch new south wale strike ...  money-fx        175   \n",
            "\n",
            "      TokenCount  \n",
            "0            526  \n",
            "1            269  \n",
            "2             31  \n",
            "3            104  \n",
            "4             13  \n",
            "...          ...  \n",
            "5705          90  \n",
            "5706          62  \n",
            "5707          61  \n",
            "5708          24  \n",
            "5709         190  \n",
            "\n",
            "[5710 rows x 4 columns]\n"
          ]
        }
      ]
    },
    {
      "cell_type": "code",
      "source": [
        "print(\"After removing whitespace:\")\n",
        "print(df)"
      ],
      "metadata": {
        "colab": {
          "base_uri": "https://localhost:8080/"
        },
        "id": "XqKbzPiiccdJ",
        "outputId": "21008681-6ba1-45e0-ae67-ba824f239079"
      },
      "execution_count": 17,
      "outputs": [
        {
          "output_type": "stream",
          "name": "stdout",
          "text": [
            "After removing whitespace:\n",
            "                                                   Text  Category  WordCount  \\\n",
            "0     bahia cocoa review shower continu throughout w...     trade        486   \n",
            "1     dean food df see strong 4th qtr earn dean food...       acq        233   \n",
            "2     magma lower copper 075 cent 66 ct magma copper...  interest         27   \n",
            "3     januari hous sale drop realti group say sale p...      earn         92   \n",
            "4     asset money market mutual fund rose 7204 mln d...      earn         13   \n",
            "...                                                 ...       ...        ...   \n",
            "5705  bank japan interven soon tokyo open bank japan...      earn         81   \n",
            "5706  japan rubber stock fall march japan rubber sto...       acq         55   \n",
            "5707  south korean fix 25month high bank korea said ...  interest         54   \n",
            "5708  nippon mine lower copper price nippon mine co ...      earn         22   \n",
            "5709  australian union launch new south wale strike ...  money-fx        175   \n",
            "\n",
            "      TokenCount  \n",
            "0            526  \n",
            "1            269  \n",
            "2             31  \n",
            "3            104  \n",
            "4             13  \n",
            "...          ...  \n",
            "5705          90  \n",
            "5706          62  \n",
            "5707          61  \n",
            "5708          24  \n",
            "5709         190  \n",
            "\n",
            "[5710 rows x 4 columns]\n"
          ]
        }
      ]
    },
    {
      "cell_type": "code",
      "source": [
        "# Save cleaned and preprocessed data\n",
        "df.to_csv(\"/content/drive/MyDrive/NLPCoursework/Task2/preprocessed_training_data.csv\", index=False)"
      ],
      "metadata": {
        "id": "wkFDP0rMcceh"
      },
      "execution_count": 19,
      "outputs": []
    },
    {
      "cell_type": "code",
      "source": [
        "dataset_path = r\"/content/drive/MyDrive/Reuters-21578/reuters/reuters/reuters/test\"\n",
        "dataset_dirs = os.listdir(dataset_path)"
      ],
      "metadata": {
        "id": "AgPCS73x_7F9"
      },
      "execution_count": 26,
      "outputs": []
    },
    {
      "cell_type": "code",
      "source": [
        "test_data = []\n",
        "for i in tqdm(dataset_dirs):\n",
        "  file_path = f\"{dataset_path}/{i}\"\n",
        "  try:\n",
        "      with open(file_path, 'r', encoding='utf-8') as f:\n",
        "          content = f.read()\n",
        "          test_data.append(content)\n",
        "  except UnicodeDecodeError:\n",
        "      print(f\"Skipping file due to decoding error: {file_path}\")"
      ],
      "metadata": {
        "colab": {
          "base_uri": "https://localhost:8080/"
        },
        "id": "dTw5nFog_M9e",
        "outputId": "19537759-d18a-4608-8dff-bdd795b07337"
      },
      "execution_count": 48,
      "outputs": [
        {
          "output_type": "stream",
          "name": "stderr",
          "text": [
            " 57%|█████▋    | 1722/3019 [00:02<00:01, 793.24it/s]"
          ]
        },
        {
          "output_type": "stream",
          "name": "stdout",
          "text": [
            "Skipping file due to decoding error: /content/drive/MyDrive/Reuters-21578/reuters/reuters/reuters/test/17980\n"
          ]
        },
        {
          "output_type": "stream",
          "name": "stderr",
          "text": [
            "100%|██████████| 3019/3019 [00:03<00:00, 788.34it/s]\n"
          ]
        }
      ]
    },
    {
      "cell_type": "code",
      "source": [
        "test_data = [article.split('\\n ') for article in test_data]"
      ],
      "metadata": {
        "id": "GWY9k4sMBhcZ"
      },
      "execution_count": 49,
      "outputs": []
    },
    {
      "cell_type": "code",
      "source": [
        "topics = [article.pop(0) for article in test_data]"
      ],
      "metadata": {
        "id": "pMzCVLWaBjL3"
      },
      "execution_count": 50,
      "outputs": []
    },
    {
      "cell_type": "code",
      "source": [
        "test_data = [\"\".join(line) for line in test_data]"
      ],
      "metadata": {
        "id": "69vFIUeaBoSo"
      },
      "execution_count": 51,
      "outputs": []
    },
    {
      "cell_type": "code",
      "source": [
        "cat_file = r\"/content/drive/MyDrive/Reuters-21578/reuters/reuters/reuters/cats.txt\"\n",
        "\n",
        "with open(cat_file, 'r') as f:\n",
        "    lines = f.readlines()\n",
        "\n",
        "lines = [\"\".join(x.strip('\\n').split(',')) for x in lines]\n",
        "\n",
        "paths = []\n",
        "cats = []\n",
        "\n",
        "for line in lines:\n",
        "    temp_line = line.split(' ')\n",
        "    paths.append(temp_line[0])\n",
        "    cats.append(temp_line[1])"
      ],
      "metadata": {
        "id": "YsqybNWqB272"
      },
      "execution_count": 52,
      "outputs": []
    },
    {
      "cell_type": "code",
      "source": [
        "test_df = pd.DataFrame(list(zip(topics, test_data, cats)),\n",
        "               columns =['Topic','Text', 'Category'])"
      ],
      "metadata": {
        "id": "kcPEhXTuBrwo"
      },
      "execution_count": 53,
      "outputs": []
    },
    {
      "cell_type": "code",
      "source": [
        "test_df.head()"
      ],
      "metadata": {
        "colab": {
          "base_uri": "https://localhost:8080/",
          "height": 206
        },
        "id": "e-9zKdH5Pwb4",
        "outputId": "5c19e13e-4bd9-4ee1-ccb2-03dddf25cca7"
      },
      "execution_count": 55,
      "outputs": [
        {
          "output_type": "execute_result",
          "data": {
            "text/plain": [
              "                                               Topic  \\\n",
              "0  SERVICE RESOURCES&lt;SRC> UNIT CUTS SORG&lt;SR...   \n",
              "1                  NO COMINCO STRIKE TALKS SCHEDULED   \n",
              "2        SHIRMAX FASHIONS LTD &lt;SHX.M> 1ST QTR NET   \n",
              "3    GATEWAY &lt;GMSI.O> RECINDS OFFER FOR WESTWORLD   \n",
              "4               UAE CENTRAL BANK CD YIELDS UNCHANGED   \n",
              "\n",
              "                                                Text  Category  \n",
              "0   A group led by Chas. P. Young Co, a subsidiar...     trade  \n",
              "1   Cominco Ltd said no talks were scheduled with...     grain  \n",
              "2   qtr ended May 2     Oper shr three cts vs 11 ...   nat-gas  \n",
              "3   Gateway Medical Systems Inc said it has withd...    rubber  \n",
              "4   Yields on certificates of deposit (CDs) issue...  palm-oil  "
            ],
            "text/html": [
              "\n",
              "  <div id=\"df-0eef1a41-8b13-44a9-9cd2-0afacf70d3e9\" class=\"colab-df-container\">\n",
              "    <div>\n",
              "<style scoped>\n",
              "    .dataframe tbody tr th:only-of-type {\n",
              "        vertical-align: middle;\n",
              "    }\n",
              "\n",
              "    .dataframe tbody tr th {\n",
              "        vertical-align: top;\n",
              "    }\n",
              "\n",
              "    .dataframe thead th {\n",
              "        text-align: right;\n",
              "    }\n",
              "</style>\n",
              "<table border=\"1\" class=\"dataframe\">\n",
              "  <thead>\n",
              "    <tr style=\"text-align: right;\">\n",
              "      <th></th>\n",
              "      <th>Topic</th>\n",
              "      <th>Text</th>\n",
              "      <th>Category</th>\n",
              "    </tr>\n",
              "  </thead>\n",
              "  <tbody>\n",
              "    <tr>\n",
              "      <th>0</th>\n",
              "      <td>SERVICE RESOURCES&amp;lt;SRC&gt; UNIT CUTS SORG&amp;lt;SR...</td>\n",
              "      <td>A group led by Chas. P. Young Co, a subsidiar...</td>\n",
              "      <td>trade</td>\n",
              "    </tr>\n",
              "    <tr>\n",
              "      <th>1</th>\n",
              "      <td>NO COMINCO STRIKE TALKS SCHEDULED</td>\n",
              "      <td>Cominco Ltd said no talks were scheduled with...</td>\n",
              "      <td>grain</td>\n",
              "    </tr>\n",
              "    <tr>\n",
              "      <th>2</th>\n",
              "      <td>SHIRMAX FASHIONS LTD &amp;lt;SHX.M&gt; 1ST QTR NET</td>\n",
              "      <td>qtr ended May 2     Oper shr three cts vs 11 ...</td>\n",
              "      <td>nat-gas</td>\n",
              "    </tr>\n",
              "    <tr>\n",
              "      <th>3</th>\n",
              "      <td>GATEWAY &amp;lt;GMSI.O&gt; RECINDS OFFER FOR WESTWORLD</td>\n",
              "      <td>Gateway Medical Systems Inc said it has withd...</td>\n",
              "      <td>rubber</td>\n",
              "    </tr>\n",
              "    <tr>\n",
              "      <th>4</th>\n",
              "      <td>UAE CENTRAL BANK CD YIELDS UNCHANGED</td>\n",
              "      <td>Yields on certificates of deposit (CDs) issue...</td>\n",
              "      <td>palm-oil</td>\n",
              "    </tr>\n",
              "  </tbody>\n",
              "</table>\n",
              "</div>\n",
              "    <div class=\"colab-df-buttons\">\n",
              "\n",
              "  <div class=\"colab-df-container\">\n",
              "    <button class=\"colab-df-convert\" onclick=\"convertToInteractive('df-0eef1a41-8b13-44a9-9cd2-0afacf70d3e9')\"\n",
              "            title=\"Convert this dataframe to an interactive table.\"\n",
              "            style=\"display:none;\">\n",
              "\n",
              "  <svg xmlns=\"http://www.w3.org/2000/svg\" height=\"24px\" viewBox=\"0 -960 960 960\">\n",
              "    <path d=\"M120-120v-720h720v720H120Zm60-500h600v-160H180v160Zm220 220h160v-160H400v160Zm0 220h160v-160H400v160ZM180-400h160v-160H180v160Zm440 0h160v-160H620v160ZM180-180h160v-160H180v160Zm440 0h160v-160H620v160Z\"/>\n",
              "  </svg>\n",
              "    </button>\n",
              "\n",
              "  <style>\n",
              "    .colab-df-container {\n",
              "      display:flex;\n",
              "      gap: 12px;\n",
              "    }\n",
              "\n",
              "    .colab-df-convert {\n",
              "      background-color: #E8F0FE;\n",
              "      border: none;\n",
              "      border-radius: 50%;\n",
              "      cursor: pointer;\n",
              "      display: none;\n",
              "      fill: #1967D2;\n",
              "      height: 32px;\n",
              "      padding: 0 0 0 0;\n",
              "      width: 32px;\n",
              "    }\n",
              "\n",
              "    .colab-df-convert:hover {\n",
              "      background-color: #E2EBFA;\n",
              "      box-shadow: 0px 1px 2px rgba(60, 64, 67, 0.3), 0px 1px 3px 1px rgba(60, 64, 67, 0.15);\n",
              "      fill: #174EA6;\n",
              "    }\n",
              "\n",
              "    .colab-df-buttons div {\n",
              "      margin-bottom: 4px;\n",
              "    }\n",
              "\n",
              "    [theme=dark] .colab-df-convert {\n",
              "      background-color: #3B4455;\n",
              "      fill: #D2E3FC;\n",
              "    }\n",
              "\n",
              "    [theme=dark] .colab-df-convert:hover {\n",
              "      background-color: #434B5C;\n",
              "      box-shadow: 0px 1px 3px 1px rgba(0, 0, 0, 0.15);\n",
              "      filter: drop-shadow(0px 1px 2px rgba(0, 0, 0, 0.3));\n",
              "      fill: #FFFFFF;\n",
              "    }\n",
              "  </style>\n",
              "\n",
              "    <script>\n",
              "      const buttonEl =\n",
              "        document.querySelector('#df-0eef1a41-8b13-44a9-9cd2-0afacf70d3e9 button.colab-df-convert');\n",
              "      buttonEl.style.display =\n",
              "        google.colab.kernel.accessAllowed ? 'block' : 'none';\n",
              "\n",
              "      async function convertToInteractive(key) {\n",
              "        const element = document.querySelector('#df-0eef1a41-8b13-44a9-9cd2-0afacf70d3e9');\n",
              "        const dataTable =\n",
              "          await google.colab.kernel.invokeFunction('convertToInteractive',\n",
              "                                                    [key], {});\n",
              "        if (!dataTable) return;\n",
              "\n",
              "        const docLinkHtml = 'Like what you see? Visit the ' +\n",
              "          '<a target=\"_blank\" href=https://colab.research.google.com/notebooks/data_table.ipynb>data table notebook</a>'\n",
              "          + ' to learn more about interactive tables.';\n",
              "        element.innerHTML = '';\n",
              "        dataTable['output_type'] = 'display_data';\n",
              "        await google.colab.output.renderOutput(dataTable, element);\n",
              "        const docLink = document.createElement('div');\n",
              "        docLink.innerHTML = docLinkHtml;\n",
              "        element.appendChild(docLink);\n",
              "      }\n",
              "    </script>\n",
              "  </div>\n",
              "\n",
              "\n",
              "<div id=\"df-7ba22b2f-224f-4c4b-a46d-d80b9e01aebd\">\n",
              "  <button class=\"colab-df-quickchart\" onclick=\"quickchart('df-7ba22b2f-224f-4c4b-a46d-d80b9e01aebd')\"\n",
              "            title=\"Suggest charts\"\n",
              "            style=\"display:none;\">\n",
              "\n",
              "<svg xmlns=\"http://www.w3.org/2000/svg\" height=\"24px\"viewBox=\"0 0 24 24\"\n",
              "     width=\"24px\">\n",
              "    <g>\n",
              "        <path d=\"M19 3H5c-1.1 0-2 .9-2 2v14c0 1.1.9 2 2 2h14c1.1 0 2-.9 2-2V5c0-1.1-.9-2-2-2zM9 17H7v-7h2v7zm4 0h-2V7h2v10zm4 0h-2v-4h2v4z\"/>\n",
              "    </g>\n",
              "</svg>\n",
              "  </button>\n",
              "\n",
              "<style>\n",
              "  .colab-df-quickchart {\n",
              "      --bg-color: #E8F0FE;\n",
              "      --fill-color: #1967D2;\n",
              "      --hover-bg-color: #E2EBFA;\n",
              "      --hover-fill-color: #174EA6;\n",
              "      --disabled-fill-color: #AAA;\n",
              "      --disabled-bg-color: #DDD;\n",
              "  }\n",
              "\n",
              "  [theme=dark] .colab-df-quickchart {\n",
              "      --bg-color: #3B4455;\n",
              "      --fill-color: #D2E3FC;\n",
              "      --hover-bg-color: #434B5C;\n",
              "      --hover-fill-color: #FFFFFF;\n",
              "      --disabled-bg-color: #3B4455;\n",
              "      --disabled-fill-color: #666;\n",
              "  }\n",
              "\n",
              "  .colab-df-quickchart {\n",
              "    background-color: var(--bg-color);\n",
              "    border: none;\n",
              "    border-radius: 50%;\n",
              "    cursor: pointer;\n",
              "    display: none;\n",
              "    fill: var(--fill-color);\n",
              "    height: 32px;\n",
              "    padding: 0;\n",
              "    width: 32px;\n",
              "  }\n",
              "\n",
              "  .colab-df-quickchart:hover {\n",
              "    background-color: var(--hover-bg-color);\n",
              "    box-shadow: 0 1px 2px rgba(60, 64, 67, 0.3), 0 1px 3px 1px rgba(60, 64, 67, 0.15);\n",
              "    fill: var(--button-hover-fill-color);\n",
              "  }\n",
              "\n",
              "  .colab-df-quickchart-complete:disabled,\n",
              "  .colab-df-quickchart-complete:disabled:hover {\n",
              "    background-color: var(--disabled-bg-color);\n",
              "    fill: var(--disabled-fill-color);\n",
              "    box-shadow: none;\n",
              "  }\n",
              "\n",
              "  .colab-df-spinner {\n",
              "    border: 2px solid var(--fill-color);\n",
              "    border-color: transparent;\n",
              "    border-bottom-color: var(--fill-color);\n",
              "    animation:\n",
              "      spin 1s steps(1) infinite;\n",
              "  }\n",
              "\n",
              "  @keyframes spin {\n",
              "    0% {\n",
              "      border-color: transparent;\n",
              "      border-bottom-color: var(--fill-color);\n",
              "      border-left-color: var(--fill-color);\n",
              "    }\n",
              "    20% {\n",
              "      border-color: transparent;\n",
              "      border-left-color: var(--fill-color);\n",
              "      border-top-color: var(--fill-color);\n",
              "    }\n",
              "    30% {\n",
              "      border-color: transparent;\n",
              "      border-left-color: var(--fill-color);\n",
              "      border-top-color: var(--fill-color);\n",
              "      border-right-color: var(--fill-color);\n",
              "    }\n",
              "    40% {\n",
              "      border-color: transparent;\n",
              "      border-right-color: var(--fill-color);\n",
              "      border-top-color: var(--fill-color);\n",
              "    }\n",
              "    60% {\n",
              "      border-color: transparent;\n",
              "      border-right-color: var(--fill-color);\n",
              "    }\n",
              "    80% {\n",
              "      border-color: transparent;\n",
              "      border-right-color: var(--fill-color);\n",
              "      border-bottom-color: var(--fill-color);\n",
              "    }\n",
              "    90% {\n",
              "      border-color: transparent;\n",
              "      border-bottom-color: var(--fill-color);\n",
              "    }\n",
              "  }\n",
              "</style>\n",
              "\n",
              "  <script>\n",
              "    async function quickchart(key) {\n",
              "      const quickchartButtonEl =\n",
              "        document.querySelector('#' + key + ' button');\n",
              "      quickchartButtonEl.disabled = true;  // To prevent multiple clicks.\n",
              "      quickchartButtonEl.classList.add('colab-df-spinner');\n",
              "      try {\n",
              "        const charts = await google.colab.kernel.invokeFunction(\n",
              "            'suggestCharts', [key], {});\n",
              "      } catch (error) {\n",
              "        console.error('Error during call to suggestCharts:', error);\n",
              "      }\n",
              "      quickchartButtonEl.classList.remove('colab-df-spinner');\n",
              "      quickchartButtonEl.classList.add('colab-df-quickchart-complete');\n",
              "    }\n",
              "    (() => {\n",
              "      let quickchartButtonEl =\n",
              "        document.querySelector('#df-7ba22b2f-224f-4c4b-a46d-d80b9e01aebd button');\n",
              "      quickchartButtonEl.style.display =\n",
              "        google.colab.kernel.accessAllowed ? 'block' : 'none';\n",
              "    })();\n",
              "  </script>\n",
              "</div>\n",
              "    </div>\n",
              "  </div>\n"
            ]
          },
          "metadata": {},
          "execution_count": 55
        }
      ]
    },
    {
      "cell_type": "code",
      "source": [
        "test_df[\"Combined_Text\"] = test_df[\"Topic\"] + \" \" + test_df[\"Text\"]"
      ],
      "metadata": {
        "id": "wSk3V2hSCF9J"
      },
      "execution_count": 34,
      "outputs": []
    },
    {
      "cell_type": "code",
      "source": [
        "test_df[\"Text\"] = test_df[\"Combined_Text\"].apply(preprocess_text)"
      ],
      "metadata": {
        "colab": {
          "base_uri": "https://localhost:8080/"
        },
        "id": "Mij_pMoD_pXQ",
        "outputId": "660e4570-c5d1-473c-89ac-ca02cd4bdde8"
      },
      "execution_count": 35,
      "outputs": [
        {
          "output_type": "stream",
          "name": "stderr",
          "text": [
            "<ipython-input-5-f8ba2238da64>:4: MarkupResemblesLocatorWarning: The input looks more like a filename than markup. You may want to open this file and pass the filehandle into Beautiful Soup.\n",
            "  soup = BeautifulSoup(text, 'html.parser')\n"
          ]
        }
      ]
    },
    {
      "cell_type": "code",
      "source": [
        "test_df = test_df.drop(['Combined_Text', 'Topic'], axis=1)"
      ],
      "metadata": {
        "id": "tq7VVkezCWpa"
      },
      "execution_count": 36,
      "outputs": []
    },
    {
      "cell_type": "code",
      "source": [
        "test_df.head()"
      ],
      "metadata": {
        "colab": {
          "base_uri": "https://localhost:8080/",
          "height": 361
        },
        "id": "B-94YEhUCc8a",
        "outputId": "0a2cb9ba-7f92-4a31-a2bc-fe1b39212d7d"
      },
      "execution_count": 37,
      "outputs": [
        {
          "output_type": "execute_result",
          "data": {
            "text/plain": [
              "                                                Text  Category\n",
              "0  servic resourcessrc unit cut sorgsrg stake gro...     trade\n",
              "1  cominco strike talk schedul cominco ltd said t...     grain\n",
              "2  shirmax fashion ltd shxm 1st qtr net qtr end m...   nat-gas\n",
              "3  gateway gmsio recind offer westworld gateway m...    rubber\n",
              "4  uae central bank cd yield unchang yield certif...  palm-oil"
            ],
            "text/html": [
              "\n",
              "  <div id=\"df-70ddd480-77b1-4dcb-acb1-3bacdd64cd8b\" class=\"colab-df-container\">\n",
              "    <div>\n",
              "<style scoped>\n",
              "    .dataframe tbody tr th:only-of-type {\n",
              "        vertical-align: middle;\n",
              "    }\n",
              "\n",
              "    .dataframe tbody tr th {\n",
              "        vertical-align: top;\n",
              "    }\n",
              "\n",
              "    .dataframe thead th {\n",
              "        text-align: right;\n",
              "    }\n",
              "</style>\n",
              "<table border=\"1\" class=\"dataframe\">\n",
              "  <thead>\n",
              "    <tr style=\"text-align: right;\">\n",
              "      <th></th>\n",
              "      <th>Text</th>\n",
              "      <th>Category</th>\n",
              "    </tr>\n",
              "  </thead>\n",
              "  <tbody>\n",
              "    <tr>\n",
              "      <th>0</th>\n",
              "      <td>servic resourcessrc unit cut sorgsrg stake gro...</td>\n",
              "      <td>trade</td>\n",
              "    </tr>\n",
              "    <tr>\n",
              "      <th>1</th>\n",
              "      <td>cominco strike talk schedul cominco ltd said t...</td>\n",
              "      <td>grain</td>\n",
              "    </tr>\n",
              "    <tr>\n",
              "      <th>2</th>\n",
              "      <td>shirmax fashion ltd shxm 1st qtr net qtr end m...</td>\n",
              "      <td>nat-gas</td>\n",
              "    </tr>\n",
              "    <tr>\n",
              "      <th>3</th>\n",
              "      <td>gateway gmsio recind offer westworld gateway m...</td>\n",
              "      <td>rubber</td>\n",
              "    </tr>\n",
              "    <tr>\n",
              "      <th>4</th>\n",
              "      <td>uae central bank cd yield unchang yield certif...</td>\n",
              "      <td>palm-oil</td>\n",
              "    </tr>\n",
              "  </tbody>\n",
              "</table>\n",
              "</div>\n",
              "    <div class=\"colab-df-buttons\">\n",
              "\n",
              "  <div class=\"colab-df-container\">\n",
              "    <button class=\"colab-df-convert\" onclick=\"convertToInteractive('df-70ddd480-77b1-4dcb-acb1-3bacdd64cd8b')\"\n",
              "            title=\"Convert this dataframe to an interactive table.\"\n",
              "            style=\"display:none;\">\n",
              "\n",
              "  <svg xmlns=\"http://www.w3.org/2000/svg\" height=\"24px\" viewBox=\"0 -960 960 960\">\n",
              "    <path d=\"M120-120v-720h720v720H120Zm60-500h600v-160H180v160Zm220 220h160v-160H400v160Zm0 220h160v-160H400v160ZM180-400h160v-160H180v160Zm440 0h160v-160H620v160ZM180-180h160v-160H180v160Zm440 0h160v-160H620v160Z\"/>\n",
              "  </svg>\n",
              "    </button>\n",
              "\n",
              "  <style>\n",
              "    .colab-df-container {\n",
              "      display:flex;\n",
              "      gap: 12px;\n",
              "    }\n",
              "\n",
              "    .colab-df-convert {\n",
              "      background-color: #E8F0FE;\n",
              "      border: none;\n",
              "      border-radius: 50%;\n",
              "      cursor: pointer;\n",
              "      display: none;\n",
              "      fill: #1967D2;\n",
              "      height: 32px;\n",
              "      padding: 0 0 0 0;\n",
              "      width: 32px;\n",
              "    }\n",
              "\n",
              "    .colab-df-convert:hover {\n",
              "      background-color: #E2EBFA;\n",
              "      box-shadow: 0px 1px 2px rgba(60, 64, 67, 0.3), 0px 1px 3px 1px rgba(60, 64, 67, 0.15);\n",
              "      fill: #174EA6;\n",
              "    }\n",
              "\n",
              "    .colab-df-buttons div {\n",
              "      margin-bottom: 4px;\n",
              "    }\n",
              "\n",
              "    [theme=dark] .colab-df-convert {\n",
              "      background-color: #3B4455;\n",
              "      fill: #D2E3FC;\n",
              "    }\n",
              "\n",
              "    [theme=dark] .colab-df-convert:hover {\n",
              "      background-color: #434B5C;\n",
              "      box-shadow: 0px 1px 3px 1px rgba(0, 0, 0, 0.15);\n",
              "      filter: drop-shadow(0px 1px 2px rgba(0, 0, 0, 0.3));\n",
              "      fill: #FFFFFF;\n",
              "    }\n",
              "  </style>\n",
              "\n",
              "    <script>\n",
              "      const buttonEl =\n",
              "        document.querySelector('#df-70ddd480-77b1-4dcb-acb1-3bacdd64cd8b button.colab-df-convert');\n",
              "      buttonEl.style.display =\n",
              "        google.colab.kernel.accessAllowed ? 'block' : 'none';\n",
              "\n",
              "      async function convertToInteractive(key) {\n",
              "        const element = document.querySelector('#df-70ddd480-77b1-4dcb-acb1-3bacdd64cd8b');\n",
              "        const dataTable =\n",
              "          await google.colab.kernel.invokeFunction('convertToInteractive',\n",
              "                                                    [key], {});\n",
              "        if (!dataTable) return;\n",
              "\n",
              "        const docLinkHtml = 'Like what you see? Visit the ' +\n",
              "          '<a target=\"_blank\" href=https://colab.research.google.com/notebooks/data_table.ipynb>data table notebook</a>'\n",
              "          + ' to learn more about interactive tables.';\n",
              "        element.innerHTML = '';\n",
              "        dataTable['output_type'] = 'display_data';\n",
              "        await google.colab.output.renderOutput(dataTable, element);\n",
              "        const docLink = document.createElement('div');\n",
              "        docLink.innerHTML = docLinkHtml;\n",
              "        element.appendChild(docLink);\n",
              "      }\n",
              "    </script>\n",
              "  </div>\n",
              "\n",
              "\n",
              "<div id=\"df-a8405ed8-cc35-44c4-968e-88eba2484715\">\n",
              "  <button class=\"colab-df-quickchart\" onclick=\"quickchart('df-a8405ed8-cc35-44c4-968e-88eba2484715')\"\n",
              "            title=\"Suggest charts\"\n",
              "            style=\"display:none;\">\n",
              "\n",
              "<svg xmlns=\"http://www.w3.org/2000/svg\" height=\"24px\"viewBox=\"0 0 24 24\"\n",
              "     width=\"24px\">\n",
              "    <g>\n",
              "        <path d=\"M19 3H5c-1.1 0-2 .9-2 2v14c0 1.1.9 2 2 2h14c1.1 0 2-.9 2-2V5c0-1.1-.9-2-2-2zM9 17H7v-7h2v7zm4 0h-2V7h2v10zm4 0h-2v-4h2v4z\"/>\n",
              "    </g>\n",
              "</svg>\n",
              "  </button>\n",
              "\n",
              "<style>\n",
              "  .colab-df-quickchart {\n",
              "      --bg-color: #E8F0FE;\n",
              "      --fill-color: #1967D2;\n",
              "      --hover-bg-color: #E2EBFA;\n",
              "      --hover-fill-color: #174EA6;\n",
              "      --disabled-fill-color: #AAA;\n",
              "      --disabled-bg-color: #DDD;\n",
              "  }\n",
              "\n",
              "  [theme=dark] .colab-df-quickchart {\n",
              "      --bg-color: #3B4455;\n",
              "      --fill-color: #D2E3FC;\n",
              "      --hover-bg-color: #434B5C;\n",
              "      --hover-fill-color: #FFFFFF;\n",
              "      --disabled-bg-color: #3B4455;\n",
              "      --disabled-fill-color: #666;\n",
              "  }\n",
              "\n",
              "  .colab-df-quickchart {\n",
              "    background-color: var(--bg-color);\n",
              "    border: none;\n",
              "    border-radius: 50%;\n",
              "    cursor: pointer;\n",
              "    display: none;\n",
              "    fill: var(--fill-color);\n",
              "    height: 32px;\n",
              "    padding: 0;\n",
              "    width: 32px;\n",
              "  }\n",
              "\n",
              "  .colab-df-quickchart:hover {\n",
              "    background-color: var(--hover-bg-color);\n",
              "    box-shadow: 0 1px 2px rgba(60, 64, 67, 0.3), 0 1px 3px 1px rgba(60, 64, 67, 0.15);\n",
              "    fill: var(--button-hover-fill-color);\n",
              "  }\n",
              "\n",
              "  .colab-df-quickchart-complete:disabled,\n",
              "  .colab-df-quickchart-complete:disabled:hover {\n",
              "    background-color: var(--disabled-bg-color);\n",
              "    fill: var(--disabled-fill-color);\n",
              "    box-shadow: none;\n",
              "  }\n",
              "\n",
              "  .colab-df-spinner {\n",
              "    border: 2px solid var(--fill-color);\n",
              "    border-color: transparent;\n",
              "    border-bottom-color: var(--fill-color);\n",
              "    animation:\n",
              "      spin 1s steps(1) infinite;\n",
              "  }\n",
              "\n",
              "  @keyframes spin {\n",
              "    0% {\n",
              "      border-color: transparent;\n",
              "      border-bottom-color: var(--fill-color);\n",
              "      border-left-color: var(--fill-color);\n",
              "    }\n",
              "    20% {\n",
              "      border-color: transparent;\n",
              "      border-left-color: var(--fill-color);\n",
              "      border-top-color: var(--fill-color);\n",
              "    }\n",
              "    30% {\n",
              "      border-color: transparent;\n",
              "      border-left-color: var(--fill-color);\n",
              "      border-top-color: var(--fill-color);\n",
              "      border-right-color: var(--fill-color);\n",
              "    }\n",
              "    40% {\n",
              "      border-color: transparent;\n",
              "      border-right-color: var(--fill-color);\n",
              "      border-top-color: var(--fill-color);\n",
              "    }\n",
              "    60% {\n",
              "      border-color: transparent;\n",
              "      border-right-color: var(--fill-color);\n",
              "    }\n",
              "    80% {\n",
              "      border-color: transparent;\n",
              "      border-right-color: var(--fill-color);\n",
              "      border-bottom-color: var(--fill-color);\n",
              "    }\n",
              "    90% {\n",
              "      border-color: transparent;\n",
              "      border-bottom-color: var(--fill-color);\n",
              "    }\n",
              "  }\n",
              "</style>\n",
              "\n",
              "  <script>\n",
              "    async function quickchart(key) {\n",
              "      const quickchartButtonEl =\n",
              "        document.querySelector('#' + key + ' button');\n",
              "      quickchartButtonEl.disabled = true;  // To prevent multiple clicks.\n",
              "      quickchartButtonEl.classList.add('colab-df-spinner');\n",
              "      try {\n",
              "        const charts = await google.colab.kernel.invokeFunction(\n",
              "            'suggestCharts', [key], {});\n",
              "      } catch (error) {\n",
              "        console.error('Error during call to suggestCharts:', error);\n",
              "      }\n",
              "      quickchartButtonEl.classList.remove('colab-df-spinner');\n",
              "      quickchartButtonEl.classList.add('colab-df-quickchart-complete');\n",
              "    }\n",
              "    (() => {\n",
              "      let quickchartButtonEl =\n",
              "        document.querySelector('#df-a8405ed8-cc35-44c4-968e-88eba2484715 button');\n",
              "      quickchartButtonEl.style.display =\n",
              "        google.colab.kernel.accessAllowed ? 'block' : 'none';\n",
              "    })();\n",
              "  </script>\n",
              "</div>\n",
              "    </div>\n",
              "  </div>\n"
            ]
          },
          "metadata": {},
          "execution_count": 37
        }
      ]
    },
    {
      "cell_type": "code",
      "source": [
        "counts = pd.Series(cats).value_counts()"
      ],
      "metadata": {
        "id": "hsBGB7b6Cmpr"
      },
      "execution_count": 39,
      "outputs": []
    },
    {
      "cell_type": "code",
      "source": [
        "selected_cats = ['acq',\n",
        " 'crude',\n",
        " 'earn',\n",
        " 'interest',\n",
        " 'money-fx',\n",
        " 'trade']"
      ],
      "metadata": {
        "id": "wbgcHkj1C3-O"
      },
      "execution_count": 45,
      "outputs": []
    },
    {
      "cell_type": "code",
      "source": [
        "test_df = test_df[test_df['Category'].isin(selected_cats)]"
      ],
      "metadata": {
        "id": "nAbwDGAQDPIO"
      },
      "execution_count": 46,
      "outputs": []
    },
    {
      "cell_type": "code",
      "source": [
        "test_df.to_csv(\"/content/drive/MyDrive/NLPCoursework/Task2/preprocessed_test_data.csv\", index=False)"
      ],
      "metadata": {
        "id": "r4nSrOW4CfAZ"
      },
      "execution_count": 47,
      "outputs": []
    },
    {
      "cell_type": "code",
      "source": [],
      "metadata": {
        "id": "FIdclr0QC2DJ"
      },
      "execution_count": null,
      "outputs": []
    }
  ]
}