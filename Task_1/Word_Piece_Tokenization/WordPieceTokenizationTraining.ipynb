{
  "cells": [
    {
      "cell_type": "code",
      "execution_count": null,
      "metadata": {
        "id": "gDT2WhDsZPrg"
      },
      "outputs": [],
      "source": []
    },
    {
      "cell_type": "code",
      "execution_count": null,
      "metadata": {
        "id": "UdZT9sM_ulWy"
      },
      "outputs": [],
      "source": [
        "#!pip install transformers\n",
        "\n",
        "from transformers import AutoTokenizer\n",
        "\n",
        "tokenizer = AutoTokenizer.from_pretrained(\"bert-base-cased\")"
      ]
    },
    {
      "cell_type": "code",
      "execution_count": null,
      "metadata": {
        "colab": {
          "base_uri": "https://localhost:8080/"
        },
        "id": "r5Efq07fwb1Y",
        "outputId": "5ff21466-3129-4c8f-cf6e-1a58b0d50567"
      },
      "outputs": [],
      "source": [
        "from collections import defaultdict\n",
        "\n",
        "freqs = defaultdict(int)\n",
        "\n",
        "freqs"
      ]
    },
    {
      "cell_type": "code",
      "execution_count": null,
      "metadata": {
        "colab": {
          "base_uri": "https://localhost:8080/"
        },
        "id": "JMtnefh-YEQh",
        "outputId": "3c85f62d-19f4-4060-d20d-e7886d3092d0"
      },
      "outputs": [],
      "source": []
    },
    {
      "cell_type": "code",
      "execution_count": null,
      "metadata": {
        "colab": {
          "base_uri": "https://localhost:8080/",
          "height": 36
        },
        "id": "RcFy9-3RYRlY",
        "outputId": "1015fdcf-7b39-4ead-d527-7862d34c8438"
      },
      "outputs": [],
      "source": []
    },
    {
      "cell_type": "code",
      "execution_count": null,
      "metadata": {
        "colab": {
          "base_uri": "https://localhost:8080/"
        },
        "id": "2ZfMotS1nTnm",
        "outputId": "cdc7bf60-674b-4fe6-f7a9-1712643e5690"
      },
      "outputs": [],
      "source": [
        "from nltk.corpus import brown\n",
        "import nltk\n",
        "nltk.download('brown')"
      ]
    },
    {
      "cell_type": "code",
      "execution_count": null,
      "metadata": {
        "colab": {
          "base_uri": "https://localhost:8080/"
        },
        "id": "PdFWGnl-n4J6",
        "outputId": "7b041910-1f7a-42f1-eb31-7c0cbbcb87ae"
      },
      "outputs": [],
      "source": [
        "content = [' '.join(x) for x in brown.sents()]\n",
        "content"
      ]
    },
    {
      "cell_type": "code",
      "execution_count": null,
      "metadata": {
        "colab": {
          "base_uri": "https://localhost:8080/"
        },
        "id": "bkFwrmxcXcGA",
        "outputId": "5f9d64f5-52f7-4d3a-8b38-de28c1fe983f"
      },
      "outputs": [],
      "source": [
        "offsets = []\n",
        "\n",
        "for text in content:\n",
        "    words_with_offsets = tokenizer.backend_tokenizer.pre_tokenizer.pre_tokenize_str(text)\n",
        "    offsets.append(words_with_offsets)\n",
        "    new_words = [word for word, offset in words_with_offsets]\n",
        "    for word in new_words:\n",
        "        freqs[word] += 1\n",
        "\n",
        "offsets[0]\n",
        "\n",
        "len(freqs)"
      ]
    },
    {
      "cell_type": "code",
      "execution_count": null,
      "metadata": {
        "colab": {
          "base_uri": "https://localhost:8080/"
        },
        "id": "n2LsbqvHdUkx",
        "outputId": "5f8ef7b8-74d1-47d1-f305-2bf8aa5befc8"
      },
      "outputs": [],
      "source": [
        "offsets[1]\n"
      ]
    },
    {
      "cell_type": "code",
      "execution_count": null,
      "metadata": {
        "colab": {
          "base_uri": "https://localhost:8080/"
        },
        "id": "ee5rhcKldW0U",
        "outputId": "bd3d0773-6360-43c7-d9fb-96aeda7ef7b0"
      },
      "outputs": [],
      "source": [
        "len(freqs)"
      ]
    },
    {
      "cell_type": "code",
      "execution_count": null,
      "metadata": {
        "colab": {
          "base_uri": "https://localhost:8080/"
        },
        "id": "U6Ve7Wrkdd8q",
        "outputId": "b36f1a3e-0aca-4af9-df88-603106a1a807"
      },
      "outputs": [],
      "source": [
        "alphabet = []\n",
        "for word in freqs.keys():\n",
        "    # if isinstance(word, int):\n",
        "    #   continue\n",
        "    if word[0] not in alphabet:\n",
        "        alphabet.append(word[0])\n",
        "    for letter in word[1:]:\n",
        "        if f\"##{letter}\" not in alphabet:\n",
        "            alphabet.append(f\"##{letter}\")\n",
        "\n",
        "alphabet.sort()\n",
        "alphabet\n",
        "\n",
        "print(alphabet)"
      ]
    },
    {
      "cell_type": "code",
      "execution_count": null,
      "metadata": {
        "id": "89Kp4tCgnJpU"
      },
      "outputs": [],
      "source": [
        "vocab = [\"[PAD]\", \"[UNK]\", \"[CLS]\", \"[SEP]\", \"[MASK]\"] + alphabet.copy()"
      ]
    },
    {
      "cell_type": "code",
      "execution_count": null,
      "metadata": {
        "id": "4Kk0D_YFnQaZ"
      },
      "outputs": [],
      "source": [
        "splits = {\n",
        "    word: [c if i == 0 else f\"##{c}\" for i, c in enumerate(word)]\n",
        "    for word in freqs.keys()\n",
        "}"
      ]
    },
    {
      "cell_type": "code",
      "execution_count": null,
      "metadata": {
        "id": "KUlKM2rvtiU_"
      },
      "outputs": [],
      "source": [
        "def compute_pair_scores(splits):\n",
        "  letter_freqs = defaultdict(int)\n",
        "  pair_freqs = defaultdict(int)\n",
        "\n",
        "  for word, freq in freqs.items():\n",
        "    split = splits[word]\n",
        "\n",
        "    if len(split) == 1:\n",
        "      letter_freqs[split[0]] += freq\n",
        "      continue\n",
        "\n",
        "    for i in range(len(split) - 1):\n",
        "      pair = (split[i], split[i + 1])\n",
        "      letter_freqs[split[i]] += freq\n",
        "      pair_freqs[pair] += freq\n",
        "    letter_freqs[split[-1]] += freq\n",
        "\n",
        "  scores = {\n",
        "      pair: freq/(letter_freqs[pair[0]] * letter_freqs[pair[1]])\n",
        "      for pair, freq in pair_freqs.items()\n",
        "\n",
        "  }\n",
        "\n",
        "  return scores"
      ]
    },
    {
      "cell_type": "code",
      "execution_count": null,
      "metadata": {
        "colab": {
          "base_uri": "https://localhost:8080/"
        },
        "id": "N2e5gdJWGeFX",
        "outputId": "34efb04d-7e8c-464d-ccf9-96b6446e23e5"
      },
      "outputs": [],
      "source": [
        "pair_scores = compute_pair_scores(splits)\n",
        "\n",
        "for i, key in enumerate(pair_scores.keys()):\n",
        "  print(f\"{key}: {pair_scores[key]}\")\n",
        "  if i >= 5:\n",
        "    break"
      ]
    },
    {
      "cell_type": "code",
      "execution_count": null,
      "metadata": {
        "colab": {
          "base_uri": "https://localhost:8080/"
        },
        "id": "Ui7XZ-uHIGIe",
        "outputId": "331962f9-53ac-4a98-af78-477289b60a6c"
      },
      "outputs": [],
      "source": [
        "best_pair = \"\"\n",
        "max_score = None\n",
        "\n",
        "for pair, score in pair_scores.items():\n",
        "  if max_score is None or max_score < score:\n",
        "    max_score = score\n",
        "    best_pair = pair\n",
        "\n",
        "print(best_pair, max_score)"
      ]
    },
    {
      "cell_type": "code",
      "execution_count": null,
      "metadata": {
        "id": "0NCKU17bNI3A"
      },
      "outputs": [],
      "source": [
        "def merge_pair(a, b, splits):\n",
        "    for word in freqs:\n",
        "        split = splits[word]\n",
        "        if len(split) == 1:\n",
        "            continue\n",
        "        i = 0\n",
        "        while i < len(split) - 1:\n",
        "            if split[i] == a and split[i + 1] == b:\n",
        "                merge = a + b[2:] if b.startswith(\"##\") else a + b\n",
        "                split = split[:i] + [merge] + split[i + 2 :]\n",
        "            else:\n",
        "                i += 1\n",
        "        splits[word] = split\n",
        "    return splits"
      ]
    },
    {
      "cell_type": "code",
      "execution_count": null,
      "metadata": {
        "colab": {
          "base_uri": "https://localhost:8080/"
        },
        "id": "ay70SxmqlZ3t",
        "outputId": "02aaacfb-f7c0-4c49-beee-995c767641f3"
      },
      "outputs": [],
      "source": [
        "len(vocab)"
      ]
    },
    {
      "cell_type": "code",
      "execution_count": null,
      "metadata": {
        "colab": {
          "base_uri": "https://localhost:8080/",
          "height": 1000
        },
        "id": "cK2bYAJhLYDn",
        "outputId": "35c99a52-699b-46f8-db87-a4eb187fabbe"
      },
      "outputs": [],
      "source": [
        "vocab_size = 10000\n",
        "while len(vocab) < vocab_size:\n",
        "    print(f\"Vocab Size: {len(vocab)}\")\n",
        "    scores = compute_pair_scores(splits)\n",
        "    best_pair, max_score = \"\", None\n",
        "    for pair, score in scores.items():\n",
        "        if max_score is None or max_score < score:\n",
        "            best_pair = pair\n",
        "            max_score = score\n",
        "    splits = merge_pair(*best_pair, splits)\n",
        "    new_token = (\n",
        "        best_pair[0] + best_pair[1][2:]\n",
        "        if best_pair[1].startswith(\"##\")\n",
        "        else best_pair[0] + best_pair[1]\n",
        "    )\n",
        "\n",
        "    vocab.append(new_token)"
      ]
    },
    {
      "cell_type": "code",
      "execution_count": null,
      "metadata": {
        "id": "HjFiqOMxexh0"
      },
      "outputs": [],
      "source": [
        "print(vocab)"
      ]
    },
    {
      "cell_type": "code",
      "execution_count": null,
      "metadata": {
        "id": "2BbgxfvMey76"
      },
      "outputs": [],
      "source": [
        "len(vocab)"
      ]
    },
    {
      "cell_type": "code",
      "execution_count": null,
      "metadata": {
        "id": "gB5mdo69w-j-"
      },
      "outputs": [],
      "source": [
        "import pickle\n",
        "\n",
        "with open(\"vocab\", \"wb\") as f:   #Pickling\n",
        "  pickle.dump(vocab, f)\n"
      ]
    }
  ],
  "metadata": {
    "colab": {
      "provenance": []
    },
    "kernelspec": {
      "display_name": "Python 3",
      "name": "python3"
    },
    "language_info": {
      "codemirror_mode": {
        "name": "ipython",
        "version": 3
      },
      "file_extension": ".py",
      "mimetype": "text/x-python",
      "name": "python",
      "nbconvert_exporter": "python",
      "pygments_lexer": "ipython3",
      "version": "3.11.6"
    }
  },
  "nbformat": 4,
  "nbformat_minor": 0
}
