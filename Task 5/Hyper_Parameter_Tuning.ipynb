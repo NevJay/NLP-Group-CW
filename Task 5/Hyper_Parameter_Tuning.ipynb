{
 "cells": [
  {
   "cell_type": "code",
   "execution_count": 1,
   "metadata": {},
   "outputs": [],
   "source": [
    "import pandas as pd\n",
    "from sklearn.feature_extraction.text import CountVectorizer, TfidfVectorizer\n",
    "from gensim.models import Word2Vec, KeyedVectors\n",
    "import numpy as np\n",
    "from sklearn.model_selection import train_test_split\n",
    "from sklearn.preprocessing import LabelEncoder\n",
    "import xgboost as xgb\n",
    "from sklearn.metrics import accuracy_score, classification_report\n",
    "from sklearn.model_selection import RandomizedSearchCV\n",
    "from scipy.stats import randint, uniform"
   ]
  },
  {
   "cell_type": "code",
   "execution_count": 2,
   "metadata": {},
   "outputs": [],
   "source": [
    "train_df = pd.read_csv(\"../Task_2/preprocessed_training_data.csv\")\n",
    "test_df = pd.read_csv(\"../Task_2/preprocessed_testing_data.csv\")"
   ]
  },
  {
   "cell_type": "code",
   "execution_count": 3,
   "metadata": {},
   "outputs": [
    {
     "data": {
      "text/plain": [
       "Category\n",
       "earn            1087\n",
       "acq              699\n",
       "crude            144\n",
       "interest         112\n",
       "money-fx         112\n",
       "trade             88\n",
       "ship              69\n",
       "wheat             38\n",
       "sugar             31\n",
       "money-supply      30\n",
       "Name: count, dtype: int64"
      ]
     },
     "execution_count": 3,
     "metadata": {},
     "output_type": "execute_result"
    }
   ],
   "source": [
    "test_df[\"Category\"].value_counts()"
   ]
  },
  {
   "cell_type": "code",
   "execution_count": 4,
   "metadata": {},
   "outputs": [],
   "source": [
    "top6_cat = train_df[\"Category\"].value_counts().head(6).index.tolist()"
   ]
  },
  {
   "cell_type": "code",
   "execution_count": 5,
   "metadata": {},
   "outputs": [
    {
     "data": {
      "text/plain": [
       "['earn', 'acq', 'interest', 'crude', 'trade', 'money-fx']"
      ]
     },
     "execution_count": 5,
     "metadata": {},
     "output_type": "execute_result"
    }
   ],
   "source": [
    "top6_cat"
   ]
  },
  {
   "cell_type": "code",
   "execution_count": 6,
   "metadata": {},
   "outputs": [],
   "source": [
    "train_df = train_df[train_df['Category'].isin(top6_cat)]\n",
    "test_df = test_df[test_df['Category'].isin(top6_cat)]"
   ]
  },
  {
   "cell_type": "code",
   "execution_count": 7,
   "metadata": {},
   "outputs": [],
   "source": [
    "train_x, valid_x, train_y, valid_y = train_test_split(train_df[\"Text\"], train_df['Category'], test_size=0.2)"
   ]
  },
  {
   "cell_type": "code",
   "execution_count": 8,
   "metadata": {},
   "outputs": [],
   "source": [
    "test_x = test_df['Text']"
   ]
  },
  {
   "cell_type": "code",
   "execution_count": 9,
   "metadata": {},
   "outputs": [],
   "source": [
    "test_y = test_df['Category']"
   ]
  },
  {
   "cell_type": "code",
   "execution_count": 10,
   "metadata": {},
   "outputs": [],
   "source": [
    "\n",
    "encoder = LabelEncoder()\n",
    "train_y = encoder.fit_transform(train_y)\n",
    "test_y = encoder.fit_transform(test_y)\n",
    "valid_y = encoder.fit_transform(valid_y)"
   ]
  },
  {
   "cell_type": "code",
   "execution_count": 11,
   "metadata": {},
   "outputs": [],
   "source": [
    "tfidf_vect = TfidfVectorizer(analyzer='word', token_pattern=r'\\w{1,}', max_features=5000)\n",
    "tfidf_vect.fit(train_df[\"Text\"])\n",
    "xtrain_tfidf =  tfidf_vect.transform(train_x)\n",
    "xtest_tfidf =  tfidf_vect.transform(test_x)\n",
    "xvalid_tfidf =  tfidf_vect.transform(valid_x)"
   ]
  },
  {
   "cell_type": "code",
   "execution_count": 12,
   "metadata": {},
   "outputs": [],
   "source": [
    "model = xgb.XGBClassifier()"
   ]
  },
  {
   "cell_type": "code",
   "execution_count": 13,
   "metadata": {},
   "outputs": [],
   "source": [
    "param_dist = {\n",
    "    'n_estimators': randint(100, 1000),\n",
    "    'max_depth': randint(3, 10),  \n",
    "    'learning_rate': uniform(0.01, 0.3),\n",
    "    'subsample': uniform(0.5, 0.5),\n",
    "    'colsample_bytree': uniform(0.5, 0.5)\n",
    "}"
   ]
  },
  {
   "cell_type": "code",
   "execution_count": 14,
   "metadata": {},
   "outputs": [],
   "source": [
    "random_search = RandomizedSearchCV(\n",
    "    estimator=model,\n",
    "    param_distributions=param_dist,\n",
    "    n_iter=5,  # Number of parameter settings that are sampled\n",
    "    scoring='accuracy',  # Choose the appropriate scoring metric\n",
    "    cv=3,  # Number of cross-validation folds\n",
    "    verbose=10, # Controls the verbosity: the higher, the more messages\n",
    ")"
   ]
  },
  {
   "cell_type": "code",
   "execution_count": null,
   "metadata": {},
   "outputs": [],
   "source": [
    "random_search.fit(xtrain_tfidf, train_y, eval_set=[(xvalid_tfidf, valid_y)], early_stopping_rounds=10)\n"
   ]
  },
  {
   "cell_type": "code",
   "execution_count": 16,
   "metadata": {},
   "outputs": [
    {
     "name": "stdout",
     "output_type": "stream",
     "text": [
      "Best Parameters: {'colsample_bytree': 0.5062764309468029, 'learning_rate': 0.10878711003509822, 'max_depth': 4, 'n_estimators': 853, 'subsample': 0.7994457831473215}\n"
     ]
    }
   ],
   "source": [
    "best_params = random_search.best_params_\n",
    "print(\"Best Parameters:\", best_params)\n",
    "\n",
    "# Get the best estimator model\n",
    "best_model = random_search.best_estimator_"
   ]
  },
  {
   "cell_type": "code",
   "execution_count": 20,
   "metadata": {},
   "outputs": [],
   "source": [
    "model = xgb.XGBClassifier(random_state=42, colsample_bytree=0.5062764309468029, learning_rate=0.10878711003509822, max_depth=4, n_estimators=853, subsample=0.7994457831473215)"
   ]
  },
  {
   "cell_type": "code",
   "execution_count": 21,
   "metadata": {},
   "outputs": [
    {
     "name": "stdout",
     "output_type": "stream",
     "text": [
      "[0]\tvalidation_0-mlogloss:1.58675\n"
     ]
    },
    {
     "name": "stderr",
     "output_type": "stream",
     "text": [
      "C:\\Users\\nawee\\AppData\\Local\\Packages\\PythonSoftwareFoundation.Python.3.11_qbz5n2kfra8p0\\LocalCache\\local-packages\\Python311\\site-packages\\xgboost\\sklearn.py:885: UserWarning: `early_stopping_rounds` in `fit` method is deprecated for better compatibility with scikit-learn, use `early_stopping_rounds` in constructor or`set_params` instead.\n",
      "  warnings.warn(\n"
     ]
    },
    {
     "name": "stdout",
     "output_type": "stream",
     "text": [
      "[1]\tvalidation_0-mlogloss:1.42016\n",
      "[2]\tvalidation_0-mlogloss:1.28954\n",
      "[3]\tvalidation_0-mlogloss:1.18294\n",
      "[4]\tvalidation_0-mlogloss:1.08512\n",
      "[5]\tvalidation_0-mlogloss:1.00105\n",
      "[6]\tvalidation_0-mlogloss:0.93083\n",
      "[7]\tvalidation_0-mlogloss:0.86651\n",
      "[8]\tvalidation_0-mlogloss:0.81015\n",
      "[9]\tvalidation_0-mlogloss:0.75825\n",
      "[10]\tvalidation_0-mlogloss:0.71473\n",
      "[11]\tvalidation_0-mlogloss:0.67252\n",
      "[12]\tvalidation_0-mlogloss:0.63593\n",
      "[13]\tvalidation_0-mlogloss:0.60263\n",
      "[14]\tvalidation_0-mlogloss:0.57187\n",
      "[15]\tvalidation_0-mlogloss:0.54400\n",
      "[16]\tvalidation_0-mlogloss:0.51911\n",
      "[17]\tvalidation_0-mlogloss:0.49775\n",
      "[18]\tvalidation_0-mlogloss:0.47497\n",
      "[19]\tvalidation_0-mlogloss:0.45564\n",
      "[20]\tvalidation_0-mlogloss:0.43852\n",
      "[21]\tvalidation_0-mlogloss:0.42022\n",
      "[22]\tvalidation_0-mlogloss:0.40452\n",
      "[23]\tvalidation_0-mlogloss:0.39006\n",
      "[24]\tvalidation_0-mlogloss:0.37638\n",
      "[25]\tvalidation_0-mlogloss:0.36437\n",
      "[26]\tvalidation_0-mlogloss:0.35274\n",
      "[27]\tvalidation_0-mlogloss:0.34302\n",
      "[28]\tvalidation_0-mlogloss:0.33386\n",
      "[29]\tvalidation_0-mlogloss:0.32436\n",
      "[30]\tvalidation_0-mlogloss:0.31609\n",
      "[31]\tvalidation_0-mlogloss:0.30824\n",
      "[32]\tvalidation_0-mlogloss:0.30042\n",
      "[33]\tvalidation_0-mlogloss:0.29388\n",
      "[34]\tvalidation_0-mlogloss:0.28755\n",
      "[35]\tvalidation_0-mlogloss:0.28170\n",
      "[36]\tvalidation_0-mlogloss:0.27626\n",
      "[37]\tvalidation_0-mlogloss:0.27113\n",
      "[38]\tvalidation_0-mlogloss:0.26723\n",
      "[39]\tvalidation_0-mlogloss:0.26288\n",
      "[40]\tvalidation_0-mlogloss:0.25830\n",
      "[41]\tvalidation_0-mlogloss:0.25418\n",
      "[42]\tvalidation_0-mlogloss:0.24981\n",
      "[43]\tvalidation_0-mlogloss:0.24566\n",
      "[44]\tvalidation_0-mlogloss:0.24203\n",
      "[45]\tvalidation_0-mlogloss:0.23905\n",
      "[46]\tvalidation_0-mlogloss:0.23584\n",
      "[47]\tvalidation_0-mlogloss:0.23319\n",
      "[48]\tvalidation_0-mlogloss:0.22999\n",
      "[49]\tvalidation_0-mlogloss:0.22766\n",
      "[50]\tvalidation_0-mlogloss:0.22476\n",
      "[51]\tvalidation_0-mlogloss:0.22240\n",
      "[52]\tvalidation_0-mlogloss:0.22012\n",
      "[53]\tvalidation_0-mlogloss:0.21772\n",
      "[54]\tvalidation_0-mlogloss:0.21556\n",
      "[55]\tvalidation_0-mlogloss:0.21335\n",
      "[56]\tvalidation_0-mlogloss:0.21161\n",
      "[57]\tvalidation_0-mlogloss:0.21031\n",
      "[58]\tvalidation_0-mlogloss:0.20863\n",
      "[59]\tvalidation_0-mlogloss:0.20755\n",
      "[60]\tvalidation_0-mlogloss:0.20601\n",
      "[61]\tvalidation_0-mlogloss:0.20454\n",
      "[62]\tvalidation_0-mlogloss:0.20278\n",
      "[63]\tvalidation_0-mlogloss:0.20150\n",
      "[64]\tvalidation_0-mlogloss:0.20068\n",
      "[65]\tvalidation_0-mlogloss:0.19917\n",
      "[66]\tvalidation_0-mlogloss:0.19811\n",
      "[67]\tvalidation_0-mlogloss:0.19678\n",
      "[68]\tvalidation_0-mlogloss:0.19535\n",
      "[69]\tvalidation_0-mlogloss:0.19404\n",
      "[70]\tvalidation_0-mlogloss:0.19276\n",
      "[71]\tvalidation_0-mlogloss:0.19203\n",
      "[72]\tvalidation_0-mlogloss:0.19078\n",
      "[73]\tvalidation_0-mlogloss:0.18959\n",
      "[74]\tvalidation_0-mlogloss:0.18847\n",
      "[75]\tvalidation_0-mlogloss:0.18741\n",
      "[76]\tvalidation_0-mlogloss:0.18680\n",
      "[77]\tvalidation_0-mlogloss:0.18595\n",
      "[78]\tvalidation_0-mlogloss:0.18503\n",
      "[79]\tvalidation_0-mlogloss:0.18409\n",
      "[80]\tvalidation_0-mlogloss:0.18314\n",
      "[81]\tvalidation_0-mlogloss:0.18259\n",
      "[82]\tvalidation_0-mlogloss:0.18191\n",
      "[83]\tvalidation_0-mlogloss:0.18126\n",
      "[84]\tvalidation_0-mlogloss:0.18029\n",
      "[85]\tvalidation_0-mlogloss:0.17923\n",
      "[86]\tvalidation_0-mlogloss:0.17875\n",
      "[87]\tvalidation_0-mlogloss:0.17791\n",
      "[88]\tvalidation_0-mlogloss:0.17730\n",
      "[89]\tvalidation_0-mlogloss:0.17681\n",
      "[90]\tvalidation_0-mlogloss:0.17582\n",
      "[91]\tvalidation_0-mlogloss:0.17541\n",
      "[92]\tvalidation_0-mlogloss:0.17512\n",
      "[93]\tvalidation_0-mlogloss:0.17477\n",
      "[94]\tvalidation_0-mlogloss:0.17444\n",
      "[95]\tvalidation_0-mlogloss:0.17382\n",
      "[96]\tvalidation_0-mlogloss:0.17309\n",
      "[97]\tvalidation_0-mlogloss:0.17285\n",
      "[98]\tvalidation_0-mlogloss:0.17239\n",
      "[99]\tvalidation_0-mlogloss:0.17192\n",
      "[100]\tvalidation_0-mlogloss:0.17113\n",
      "[101]\tvalidation_0-mlogloss:0.17072\n",
      "[102]\tvalidation_0-mlogloss:0.17053\n",
      "[103]\tvalidation_0-mlogloss:0.17007\n",
      "[104]\tvalidation_0-mlogloss:0.16973\n",
      "[105]\tvalidation_0-mlogloss:0.16921\n",
      "[106]\tvalidation_0-mlogloss:0.16869\n",
      "[107]\tvalidation_0-mlogloss:0.16835\n",
      "[108]\tvalidation_0-mlogloss:0.16848\n",
      "[109]\tvalidation_0-mlogloss:0.16800\n",
      "[110]\tvalidation_0-mlogloss:0.16744\n",
      "[111]\tvalidation_0-mlogloss:0.16713\n",
      "[112]\tvalidation_0-mlogloss:0.16665\n",
      "[113]\tvalidation_0-mlogloss:0.16655\n",
      "[114]\tvalidation_0-mlogloss:0.16605\n",
      "[115]\tvalidation_0-mlogloss:0.16585\n",
      "[116]\tvalidation_0-mlogloss:0.16542\n",
      "[117]\tvalidation_0-mlogloss:0.16509\n",
      "[118]\tvalidation_0-mlogloss:0.16517\n",
      "[119]\tvalidation_0-mlogloss:0.16521\n",
      "[120]\tvalidation_0-mlogloss:0.16483\n",
      "[121]\tvalidation_0-mlogloss:0.16437\n",
      "[122]\tvalidation_0-mlogloss:0.16419\n",
      "[123]\tvalidation_0-mlogloss:0.16402\n",
      "[124]\tvalidation_0-mlogloss:0.16367\n",
      "[125]\tvalidation_0-mlogloss:0.16339\n",
      "[126]\tvalidation_0-mlogloss:0.16299\n",
      "[127]\tvalidation_0-mlogloss:0.16285\n",
      "[128]\tvalidation_0-mlogloss:0.16266\n",
      "[129]\tvalidation_0-mlogloss:0.16272\n",
      "[130]\tvalidation_0-mlogloss:0.16240\n",
      "[131]\tvalidation_0-mlogloss:0.16229\n",
      "[132]\tvalidation_0-mlogloss:0.16261\n",
      "[133]\tvalidation_0-mlogloss:0.16269\n",
      "[134]\tvalidation_0-mlogloss:0.16261\n",
      "[135]\tvalidation_0-mlogloss:0.16184\n",
      "[136]\tvalidation_0-mlogloss:0.16169\n",
      "[137]\tvalidation_0-mlogloss:0.16147\n",
      "[138]\tvalidation_0-mlogloss:0.16114\n",
      "[139]\tvalidation_0-mlogloss:0.16080\n",
      "[140]\tvalidation_0-mlogloss:0.16073\n",
      "[141]\tvalidation_0-mlogloss:0.16033\n",
      "[142]\tvalidation_0-mlogloss:0.16013\n",
      "[143]\tvalidation_0-mlogloss:0.15983\n",
      "[144]\tvalidation_0-mlogloss:0.15947\n",
      "[145]\tvalidation_0-mlogloss:0.15929\n",
      "[146]\tvalidation_0-mlogloss:0.15919\n",
      "[147]\tvalidation_0-mlogloss:0.15892\n",
      "[148]\tvalidation_0-mlogloss:0.15887\n",
      "[149]\tvalidation_0-mlogloss:0.15882\n",
      "[150]\tvalidation_0-mlogloss:0.15890\n",
      "[151]\tvalidation_0-mlogloss:0.15888\n",
      "[152]\tvalidation_0-mlogloss:0.15906\n",
      "[153]\tvalidation_0-mlogloss:0.15897\n",
      "[154]\tvalidation_0-mlogloss:0.15881\n",
      "[155]\tvalidation_0-mlogloss:0.15852\n",
      "[156]\tvalidation_0-mlogloss:0.15832\n",
      "[157]\tvalidation_0-mlogloss:0.15809\n",
      "[158]\tvalidation_0-mlogloss:0.15821\n",
      "[159]\tvalidation_0-mlogloss:0.15791\n",
      "[160]\tvalidation_0-mlogloss:0.15767\n",
      "[161]\tvalidation_0-mlogloss:0.15765\n",
      "[162]\tvalidation_0-mlogloss:0.15743\n",
      "[163]\tvalidation_0-mlogloss:0.15721\n",
      "[164]\tvalidation_0-mlogloss:0.15716\n",
      "[165]\tvalidation_0-mlogloss:0.15728\n",
      "[166]\tvalidation_0-mlogloss:0.15723\n",
      "[167]\tvalidation_0-mlogloss:0.15748\n",
      "[168]\tvalidation_0-mlogloss:0.15731\n",
      "[169]\tvalidation_0-mlogloss:0.15726\n",
      "[170]\tvalidation_0-mlogloss:0.15705\n",
      "[171]\tvalidation_0-mlogloss:0.15668\n",
      "[172]\tvalidation_0-mlogloss:0.15667\n",
      "[173]\tvalidation_0-mlogloss:0.15659\n",
      "[174]\tvalidation_0-mlogloss:0.15661\n",
      "[175]\tvalidation_0-mlogloss:0.15665\n",
      "[176]\tvalidation_0-mlogloss:0.15647\n",
      "[177]\tvalidation_0-mlogloss:0.15650\n",
      "[178]\tvalidation_0-mlogloss:0.15653\n",
      "[179]\tvalidation_0-mlogloss:0.15658\n",
      "[180]\tvalidation_0-mlogloss:0.15672\n",
      "[181]\tvalidation_0-mlogloss:0.15685\n",
      "[182]\tvalidation_0-mlogloss:0.15684\n",
      "[183]\tvalidation_0-mlogloss:0.15700\n",
      "[184]\tvalidation_0-mlogloss:0.15709\n",
      "[185]\tvalidation_0-mlogloss:0.15687\n",
      "[186]\tvalidation_0-mlogloss:0.15649\n"
     ]
    },
    {
     "data": {
      "text/html": [
       "<style>#sk-container-id-2 {color: black;}#sk-container-id-2 pre{padding: 0;}#sk-container-id-2 div.sk-toggleable {background-color: white;}#sk-container-id-2 label.sk-toggleable__label {cursor: pointer;display: block;width: 100%;margin-bottom: 0;padding: 0.3em;box-sizing: border-box;text-align: center;}#sk-container-id-2 label.sk-toggleable__label-arrow:before {content: \"▸\";float: left;margin-right: 0.25em;color: #696969;}#sk-container-id-2 label.sk-toggleable__label-arrow:hover:before {color: black;}#sk-container-id-2 div.sk-estimator:hover label.sk-toggleable__label-arrow:before {color: black;}#sk-container-id-2 div.sk-toggleable__content {max-height: 0;max-width: 0;overflow: hidden;text-align: left;background-color: #f0f8ff;}#sk-container-id-2 div.sk-toggleable__content pre {margin: 0.2em;color: black;border-radius: 0.25em;background-color: #f0f8ff;}#sk-container-id-2 input.sk-toggleable__control:checked~div.sk-toggleable__content {max-height: 200px;max-width: 100%;overflow: auto;}#sk-container-id-2 input.sk-toggleable__control:checked~label.sk-toggleable__label-arrow:before {content: \"▾\";}#sk-container-id-2 div.sk-estimator input.sk-toggleable__control:checked~label.sk-toggleable__label {background-color: #d4ebff;}#sk-container-id-2 div.sk-label input.sk-toggleable__control:checked~label.sk-toggleable__label {background-color: #d4ebff;}#sk-container-id-2 input.sk-hidden--visually {border: 0;clip: rect(1px 1px 1px 1px);clip: rect(1px, 1px, 1px, 1px);height: 1px;margin: -1px;overflow: hidden;padding: 0;position: absolute;width: 1px;}#sk-container-id-2 div.sk-estimator {font-family: monospace;background-color: #f0f8ff;border: 1px dotted black;border-radius: 0.25em;box-sizing: border-box;margin-bottom: 0.5em;}#sk-container-id-2 div.sk-estimator:hover {background-color: #d4ebff;}#sk-container-id-2 div.sk-parallel-item::after {content: \"\";width: 100%;border-bottom: 1px solid gray;flex-grow: 1;}#sk-container-id-2 div.sk-label:hover label.sk-toggleable__label {background-color: #d4ebff;}#sk-container-id-2 div.sk-serial::before {content: \"\";position: absolute;border-left: 1px solid gray;box-sizing: border-box;top: 0;bottom: 0;left: 50%;z-index: 0;}#sk-container-id-2 div.sk-serial {display: flex;flex-direction: column;align-items: center;background-color: white;padding-right: 0.2em;padding-left: 0.2em;position: relative;}#sk-container-id-2 div.sk-item {position: relative;z-index: 1;}#sk-container-id-2 div.sk-parallel {display: flex;align-items: stretch;justify-content: center;background-color: white;position: relative;}#sk-container-id-2 div.sk-item::before, #sk-container-id-2 div.sk-parallel-item::before {content: \"\";position: absolute;border-left: 1px solid gray;box-sizing: border-box;top: 0;bottom: 0;left: 50%;z-index: -1;}#sk-container-id-2 div.sk-parallel-item {display: flex;flex-direction: column;z-index: 1;position: relative;background-color: white;}#sk-container-id-2 div.sk-parallel-item:first-child::after {align-self: flex-end;width: 50%;}#sk-container-id-2 div.sk-parallel-item:last-child::after {align-self: flex-start;width: 50%;}#sk-container-id-2 div.sk-parallel-item:only-child::after {width: 0;}#sk-container-id-2 div.sk-dashed-wrapped {border: 1px dashed gray;margin: 0 0.4em 0.5em 0.4em;box-sizing: border-box;padding-bottom: 0.4em;background-color: white;}#sk-container-id-2 div.sk-label label {font-family: monospace;font-weight: bold;display: inline-block;line-height: 1.2em;}#sk-container-id-2 div.sk-label-container {text-align: center;}#sk-container-id-2 div.sk-container {/* jupyter's `normalize.less` sets `[hidden] { display: none; }` but bootstrap.min.css set `[hidden] { display: none !important; }` so we also need the `!important` here to be able to override the default hidden behavior on the sphinx rendered scikit-learn.org. See: https://github.com/scikit-learn/scikit-learn/issues/21755 */display: inline-block !important;position: relative;}#sk-container-id-2 div.sk-text-repr-fallback {display: none;}</style><div id=\"sk-container-id-2\" class=\"sk-top-container\"><div class=\"sk-text-repr-fallback\"><pre>XGBClassifier(base_score=None, booster=None, callbacks=None,\n",
       "              colsample_bylevel=None, colsample_bynode=None,\n",
       "              colsample_bytree=0.5062764309468029, device=None,\n",
       "              early_stopping_rounds=None, enable_categorical=False,\n",
       "              eval_metric=None, feature_types=None, gamma=None,\n",
       "              grow_policy=None, importance_type=None,\n",
       "              interaction_constraints=None, learning_rate=0.10878711003509822,\n",
       "              max_bin=None, max_cat_threshold=None, max_cat_to_onehot=None,\n",
       "              max_delta_step=None, max_depth=4, max_leaves=None,\n",
       "              min_child_weight=None, missing=nan, monotone_constraints=None,\n",
       "              multi_strategy=None, n_estimators=853, n_jobs=None,\n",
       "              num_parallel_tree=None, objective=&#x27;multi:softprob&#x27;, ...)</pre><b>In a Jupyter environment, please rerun this cell to show the HTML representation or trust the notebook. <br />On GitHub, the HTML representation is unable to render, please try loading this page with nbviewer.org.</b></div><div class=\"sk-container\" hidden><div class=\"sk-item\"><div class=\"sk-estimator sk-toggleable\"><input class=\"sk-toggleable__control sk-hidden--visually\" id=\"sk-estimator-id-4\" type=\"checkbox\" checked><label for=\"sk-estimator-id-4\" class=\"sk-toggleable__label sk-toggleable__label-arrow\">XGBClassifier</label><div class=\"sk-toggleable__content\"><pre>XGBClassifier(base_score=None, booster=None, callbacks=None,\n",
       "              colsample_bylevel=None, colsample_bynode=None,\n",
       "              colsample_bytree=0.5062764309468029, device=None,\n",
       "              early_stopping_rounds=None, enable_categorical=False,\n",
       "              eval_metric=None, feature_types=None, gamma=None,\n",
       "              grow_policy=None, importance_type=None,\n",
       "              interaction_constraints=None, learning_rate=0.10878711003509822,\n",
       "              max_bin=None, max_cat_threshold=None, max_cat_to_onehot=None,\n",
       "              max_delta_step=None, max_depth=4, max_leaves=None,\n",
       "              min_child_weight=None, missing=nan, monotone_constraints=None,\n",
       "              multi_strategy=None, n_estimators=853, n_jobs=None,\n",
       "              num_parallel_tree=None, objective=&#x27;multi:softprob&#x27;, ...)</pre></div></div></div></div></div>"
      ],
      "text/plain": [
       "XGBClassifier(base_score=None, booster=None, callbacks=None,\n",
       "              colsample_bylevel=None, colsample_bynode=None,\n",
       "              colsample_bytree=0.5062764309468029, device=None,\n",
       "              early_stopping_rounds=None, enable_categorical=False,\n",
       "              eval_metric=None, feature_types=None, gamma=None,\n",
       "              grow_policy=None, importance_type=None,\n",
       "              interaction_constraints=None, learning_rate=0.10878711003509822,\n",
       "              max_bin=None, max_cat_threshold=None, max_cat_to_onehot=None,\n",
       "              max_delta_step=None, max_depth=4, max_leaves=None,\n",
       "              min_child_weight=None, missing=nan, monotone_constraints=None,\n",
       "              multi_strategy=None, n_estimators=853, n_jobs=None,\n",
       "              num_parallel_tree=None, objective='multi:softprob', ...)"
      ]
     },
     "execution_count": 21,
     "metadata": {},
     "output_type": "execute_result"
    }
   ],
   "source": [
    "model.fit(xtrain_tfidf, train_y, eval_set=[(xvalid_tfidf, valid_y)], early_stopping_rounds=10, verbose = True)"
   ]
  },
  {
   "cell_type": "code",
   "execution_count": 22,
   "metadata": {},
   "outputs": [],
   "source": [
    "predictions = model.predict(xtest_tfidf)"
   ]
  },
  {
   "cell_type": "code",
   "execution_count": 23,
   "metadata": {},
   "outputs": [
    {
     "data": {
      "text/plain": [
       "{'acq': 0, 'crude': 1, 'earn': 2, 'interest': 3, 'money-fx': 4, 'trade': 5}"
      ]
     },
     "execution_count": 23,
     "metadata": {},
     "output_type": "execute_result"
    }
   ],
   "source": [
    "le_name_mapping = dict(zip(encoder.classes_, encoder.transform(encoder.classes_)))\n",
    "le_name_mapping"
   ]
  },
  {
   "cell_type": "code",
   "execution_count": 24,
   "metadata": {},
   "outputs": [],
   "source": [
    "decoded_labels = encoder.inverse_transform(test_y)"
   ]
  },
  {
   "cell_type": "code",
   "execution_count": 25,
   "metadata": {},
   "outputs": [
    {
     "name": "stdout",
     "output_type": "stream",
     "text": [
      "Accuracy: 0.951828724353256\n",
      "\n",
      "Classification Report:\n",
      "              precision    recall  f1-score   support\n",
      "\n",
      "           0       0.95      0.97      0.96       699\n",
      "           1       0.92      0.93      0.93       144\n",
      "           2       0.99      0.98      0.98      1087\n",
      "           3       0.82      0.77      0.79       112\n",
      "           4       0.78      0.73      0.76       112\n",
      "           5       0.94      0.94      0.94        88\n",
      "\n",
      "    accuracy                           0.95      2242\n",
      "   macro avg       0.90      0.89      0.89      2242\n",
      "weighted avg       0.95      0.95      0.95      2242\n",
      "\n"
     ]
    }
   ],
   "source": [
    "accuracy = accuracy_score(test_y, predictions)\n",
    "\n",
    "print(\"Accuracy:\", accuracy)\n",
    "print(\"\\nClassification Report:\")\n",
    "print(classification_report(test_y, predictions))"
   ]
  }
 ],
 "metadata": {
  "kernelspec": {
   "display_name": "Python 3",
   "language": "python",
   "name": "python3"
  },
  "language_info": {
   "codemirror_mode": {
    "name": "ipython",
    "version": 3
   },
   "file_extension": ".py",
   "mimetype": "text/x-python",
   "name": "python",
   "nbconvert_exporter": "python",
   "pygments_lexer": "ipython3",
   "version": "3.11.7"
  }
 },
 "nbformat": 4,
 "nbformat_minor": 2
}
